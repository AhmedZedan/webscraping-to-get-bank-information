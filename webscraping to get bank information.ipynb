{
 "cells": [
  {
   "cell_type": "code",
   "execution_count": 1,
   "id": "efd8e59f",
   "metadata": {},
   "outputs": [],
   "source": [
    "import pandas as pd\n",
    "from bs4 import BeautifulSoup\n",
    "import requests\n",
    "import lxml"
   ]
  },
  {
   "cell_type": "code",
   "execution_count": 2,
   "id": "18ab44f5",
   "metadata": {},
   "outputs": [],
   "source": [
    "html_data = requests.get('https://en.wikipedia.org/wiki/List_of_largest_banks?utm_medium=Exinfluencer&utm_source=Exinfluencer&utm_content=000026UJ&utm_term=10006555&utm_id=NA-SkillsNetwork-Channel-SkillsNetworkCoursesIBMDeveloperSkillsNetworkPY0221ENSkillsNetwork23455645-2021-01-01').text"
   ]
  },
  {
   "cell_type": "code",
   "execution_count": 3,
   "id": "d86c136f",
   "metadata": {},
   "outputs": [],
   "source": [
    "soup = BeautifulSoup(html_data, 'lxml')"
   ]
  },
  {
   "cell_type": "code",
   "execution_count": 4,
   "id": "a7427a27",
   "metadata": {},
   "outputs": [],
   "source": [
    "table = soup.find_all('table', class_ = 'wikitable sortable mw-collapsible')"
   ]
  },
  {
   "cell_type": "code",
   "execution_count": 5,
   "id": "f498f6d9",
   "metadata": {},
   "outputs": [
    {
     "name": "stdout",
     "output_type": "stream",
     "text": [
      "4\n"
     ]
    }
   ],
   "source": [
    "print(len(table))"
   ]
  },
  {
   "cell_type": "code",
   "execution_count": 6,
   "id": "5062f8db",
   "metadata": {},
   "outputs": [],
   "source": [
    "my_table = table[2]"
   ]
  },
  {
   "cell_type": "code",
   "execution_count": 7,
   "id": "c4f6e706",
   "metadata": {},
   "outputs": [],
   "source": [
    "body_of_table = my_table.find('tbody')"
   ]
  },
  {
   "cell_type": "code",
   "execution_count": 8,
   "id": "94ddd702",
   "metadata": {},
   "outputs": [],
   "source": [
    "data_of_table = body_of_table.find_all(\"tr\")"
   ]
  },
  {
   "cell_type": "code",
   "execution_count": 9,
   "id": "e699fed7",
   "metadata": {},
   "outputs": [],
   "source": [
    "data_of_table = data_of_table[1:]"
   ]
  },
  {
   "cell_type": "code",
   "execution_count": 10,
   "id": "c23f30ba",
   "metadata": {},
   "outputs": [],
   "source": [
    "dic = {'Rank':[],'bank_name':[],'market_cap(US$ billion)':[]}\n",
    "for row in data_of_table:\n",
    "    dic['Rank'].append((row.select(\"td\")[0].text).strip())\n",
    "    dic['bank_name'].append((row.select(\"td\")[1].text).strip())\n",
    "    dic['market_cap(US$ billion)'].append((row.select(\"td\")[2].text).strip())"
   ]
  },
  {
   "cell_type": "code",
   "execution_count": 11,
   "id": "6d02f0f1",
   "metadata": {},
   "outputs": [],
   "source": [
    "df = pd.DataFrame(dic,columns=['Rank', 'bank_name', 'market_cap(US$ billion)'])"
   ]
  },
  {
   "cell_type": "code",
   "execution_count": 12,
   "id": "ee814b09",
   "metadata": {},
   "outputs": [
    {
     "data": {
      "text/html": [
       "<div>\n",
       "<style scoped>\n",
       "    .dataframe tbody tr th:only-of-type {\n",
       "        vertical-align: middle;\n",
       "    }\n",
       "\n",
       "    .dataframe tbody tr th {\n",
       "        vertical-align: top;\n",
       "    }\n",
       "\n",
       "    .dataframe thead th {\n",
       "        text-align: right;\n",
       "    }\n",
       "</style>\n",
       "<table border=\"1\" class=\"dataframe\">\n",
       "  <thead>\n",
       "    <tr style=\"text-align: right;\">\n",
       "      <th></th>\n",
       "      <th>Rank</th>\n",
       "      <th>bank_name</th>\n",
       "      <th>market_cap(US$ billion)</th>\n",
       "    </tr>\n",
       "  </thead>\n",
       "  <tbody>\n",
       "    <tr>\n",
       "      <th>0</th>\n",
       "      <td>1</td>\n",
       "      <td>JPMorgan Chase</td>\n",
       "      <td>487.220</td>\n",
       "    </tr>\n",
       "    <tr>\n",
       "      <th>1</th>\n",
       "      <td>2</td>\n",
       "      <td>Industrial and Commercial Bank of China</td>\n",
       "      <td>345.214</td>\n",
       "    </tr>\n",
       "    <tr>\n",
       "      <th>2</th>\n",
       "      <td>3</td>\n",
       "      <td>Bank of America</td>\n",
       "      <td>325.331</td>\n",
       "    </tr>\n",
       "    <tr>\n",
       "      <th>3</th>\n",
       "      <td>4</td>\n",
       "      <td>Wells Fargo</td>\n",
       "      <td>308.013</td>\n",
       "    </tr>\n",
       "    <tr>\n",
       "      <th>4</th>\n",
       "      <td>5</td>\n",
       "      <td>China Construction Bank</td>\n",
       "      <td>257.399</td>\n",
       "    </tr>\n",
       "    <tr>\n",
       "      <th>...</th>\n",
       "      <td>...</td>\n",
       "      <td>...</td>\n",
       "      <td>...</td>\n",
       "    </tr>\n",
       "    <tr>\n",
       "      <th>65</th>\n",
       "      <td>66</td>\n",
       "      <td>Ping An Bank</td>\n",
       "      <td>37.993</td>\n",
       "    </tr>\n",
       "    <tr>\n",
       "      <th>66</th>\n",
       "      <td>67</td>\n",
       "      <td>Standard Chartered</td>\n",
       "      <td>37.319</td>\n",
       "    </tr>\n",
       "    <tr>\n",
       "      <th>67</th>\n",
       "      <td>68</td>\n",
       "      <td>United Overseas Bank</td>\n",
       "      <td>35.128</td>\n",
       "    </tr>\n",
       "    <tr>\n",
       "      <th>68</th>\n",
       "      <td>69</td>\n",
       "      <td>QNB Group</td>\n",
       "      <td>33.560</td>\n",
       "    </tr>\n",
       "    <tr>\n",
       "      <th>69</th>\n",
       "      <td>70</td>\n",
       "      <td>Bank Rakyat Indonesia</td>\n",
       "      <td>33.081</td>\n",
       "    </tr>\n",
       "  </tbody>\n",
       "</table>\n",
       "<p>70 rows × 3 columns</p>\n",
       "</div>"
      ],
      "text/plain": [
       "   Rank                                bank_name market_cap(US$ billion)\n",
       "0     1                           JPMorgan Chase                 487.220\n",
       "1     2  Industrial and Commercial Bank of China                 345.214\n",
       "2     3                          Bank of America                 325.331\n",
       "3     4                              Wells Fargo                 308.013\n",
       "4     5                  China Construction Bank                 257.399\n",
       "..  ...                                      ...                     ...\n",
       "65   66                             Ping An Bank                  37.993\n",
       "66   67                       Standard Chartered                  37.319\n",
       "67   68                     United Overseas Bank                  35.128\n",
       "68   69                                QNB Group                  33.560\n",
       "69   70                    Bank Rakyat Indonesia                  33.081\n",
       "\n",
       "[70 rows x 3 columns]"
      ]
     },
     "execution_count": 12,
     "metadata": {},
     "output_type": "execute_result"
    }
   ],
   "source": [
    "df"
   ]
  },
  {
   "cell_type": "code",
   "execution_count": 13,
   "id": "317c7f29",
   "metadata": {},
   "outputs": [],
   "source": [
    "df.to_json('bank_market_cap.json')"
   ]
  },
  {
   "cell_type": "code",
   "execution_count": null,
   "id": "1cbf9509",
   "metadata": {},
   "outputs": [],
   "source": []
  }
 ],
 "metadata": {
  "kernelspec": {
   "display_name": "Python 3 (ipykernel)",
   "language": "python",
   "name": "python3"
  },
  "language_info": {
   "codemirror_mode": {
    "name": "ipython",
    "version": 3
   },
   "file_extension": ".py",
   "mimetype": "text/x-python",
   "name": "python",
   "nbconvert_exporter": "python",
   "pygments_lexer": "ipython3",
   "version": "3.8.8"
  }
 },
 "nbformat": 4,
 "nbformat_minor": 5
}
